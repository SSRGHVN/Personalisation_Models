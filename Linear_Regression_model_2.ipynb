{
 "cells": [
  {
   "cell_type": "code",
   "execution_count": null,
   "metadata": {
    "collapsed": true
   },
   "outputs": [],
   "source": [
    "\n",
    "import pandas as pd\n",
    "import numpy as np\n",
    "from sklearn.preprocessing import OneHotEncoder\n",
    "from sklearn.linear_model import LinearRegression\n",
    "from sklearn.metrics import mean_squared_error\n",
    "from math import sqrt\n",
    "from sklearn.metrics import r2_score\n",
    "from sklearn.model_selection import train_test_split\n",
    "from sklearn.feature_selection import VarianceThreshold\n",
    "from statsmodels.stats.outliers_influence import variance_inflation_factor\n",
    "import matplotlib.pyplot as plt\n"
   ]
  },
  {
   "cell_type": "markdown",
   "metadata": {},
   "source": [
    "# Reading Train and Test Data\n",
    "\n"
   ]
  },
  {
   "cell_type": "code",
   "execution_count": 884,
   "metadata": {},
   "outputs": [
    {
     "data": {
      "text/plain": [
       "(612, 154)"
      ]
     },
     "execution_count": 884,
     "metadata": {},
     "output_type": "execute_result"
    }
   ],
   "source": [
    "train=pd.read_csv(\"C:/Users/shreyas.raghavan/Desktop/train.csv\",encoding='latin')\n",
    "Test_df=pd.read_csv(\"C:/Users/shreyas.raghavan/Desktop/test.csv\",encoding='latin')\n",
    "train.shape"
   ]
  },
  {
   "cell_type": "code",
   "execution_count": 596,
   "metadata": {},
   "outputs": [],
   "source": [
    "features=list(train)\n",
    "features.remove('Last Name')\n",
    "features.remove('First Name')\n",
    "features.remove('Born')\n",
    "features.remove('City')\n",
    "#Y variable\n"
   ]
  },
  {
   "cell_type": "code",
   "execution_count": 597,
   "metadata": {},
   "outputs": [
    {
     "data": {
      "text/plain": [
       "(612, 150)"
      ]
     },
     "execution_count": 597,
     "metadata": {},
     "output_type": "execute_result"
    }
   ],
   "source": [
    "df1=train[features]\n",
    "df1.shape"
   ]
  },
  {
   "cell_type": "code",
   "execution_count": null,
   "metadata": {
    "collapsed": true
   },
   "outputs": [],
   "source": []
  },
  {
   "cell_type": "markdown",
   "metadata": {},
   "source": [
    "# Missing Value and outlier Treatment"
   ]
  },
  {
   "cell_type": "code",
   "execution_count": 598,
   "metadata": {
    "collapsed": true
   },
   "outputs": [],
   "source": [
    "def missing(df1):\n",
    "    missing_df=pd.DataFrame({'Features':list(df1.columns),'Missing perc':list(df1.isnull().sum()/df1.shape[0]*100),'Missing Count':list(df1.isnull().sum())})\n",
    "    missing_l=list(missing_df[(missing_df['Missing perc']>0) & (missing_df['Missing perc']<50)]['Features'])\n",
    "#     df[missing_l].fillna(df[missing_l].mode()[0],inplace=True)\n",
    "    for i in missing_l:\n",
    "        df1[i]=df1[i].fillna(df1[i].mode()[0])\n",
    "    drop_l=list(missing_df[missing_df['Missing perc']>=50]['Features'])\n",
    "    for i in drop_l:\n",
    "        del df1[i]\n",
    "    return df1"
   ]
  },
  {
   "cell_type": "code",
   "execution_count": 599,
   "metadata": {},
   "outputs": [
    {
     "name": "stderr",
     "output_type": "stream",
     "text": [
      "C:\\Users\\shreyas.raghavan\\AppData\\Local\\Continuum\\anaconda3\\lib\\site-packages\\ipykernel_launcher.py:6: SettingWithCopyWarning: \n",
      "A value is trying to be set on a copy of a slice from a DataFrame.\n",
      "Try using .loc[row_indexer,col_indexer] = value instead\n",
      "\n",
      "See the caveats in the documentation: http://pandas.pydata.org/pandas-docs/stable/indexing.html#indexing-view-versus-copy\n",
      "  \n"
     ]
    },
    {
     "data": {
      "text/plain": [
       "(612, 150)"
      ]
     },
     "execution_count": 599,
     "metadata": {},
     "output_type": "execute_result"
    }
   ],
   "source": [
    "df1=missing(df1)\n",
    "df1.shape"
   ]
  },
  {
   "cell_type": "code",
   "execution_count": 600,
   "metadata": {
    "collapsed": true
   },
   "outputs": [],
   "source": [
    "cat=list(df1.describe(include=['O']).columns)\n",
    "cont=list(df1.describe().columns)\n"
   ]
  },
  {
   "cell_type": "code",
   "execution_count": 601,
   "metadata": {
    "collapsed": true
   },
   "outputs": [],
   "source": [
    "def remove_variance_cont(df,cont_l):\n",
    "    p1=[]\n",
    "    p95=[]\n",
    "    col_name=[]\n",
    "    # Finding p1 and p99\n",
    "    for i in cont_l:\n",
    "        try:\n",
    "            p1.append(int(data_df[i].quantile(0.01)))\n",
    "            p95.append(int(data_df[i].quantile(0.95)))\n",
    "            col_name.append(i)\n",
    "        except:\n",
    "            pass\n",
    "    quan_df=pd.DataFrame()\n",
    "    quan_df=pd.DataFrame({'col_name':col_name,'p1':p1,'p95':p95})\n",
    "    var_l=list(quan_df[quan_df['p1']==quan_df['p95']]['col_name'])\n",
    "    model_l1=list(set(cont_l)-set(var_l))\n",
    "    return df[model_l1]"
   ]
  },
  {
   "cell_type": "code",
   "execution_count": 1146,
   "metadata": {},
   "outputs": [
    {
     "data": {
      "text/plain": [
       "(612, 51)"
      ]
     },
     "execution_count": 1146,
     "metadata": {},
     "output_type": "execute_result"
    }
   ],
   "source": [
    "t_df=remove_variance_cont(df1,cont)\n",
    "merge= pd.concat([t_df,df1[cat]],axis=1)\n",
    "merge.shape"
   ]
  },
  {
   "cell_type": "markdown",
   "metadata": {},
   "source": [
    "# Removing Variables With Coorelation and VIF checks\n"
   ]
  },
  {
   "cell_type": "code",
   "execution_count": 1147,
   "metadata": {
    "collapsed": true
   },
   "outputs": [],
   "source": [
    "def correlation(dataset, threshold):\n",
    "    col_corr = set() # Set of all the names of deleted columns\n",
    "    corr_matrix = dataset.corr()\n",
    "    for i in range(len(corr_matrix.columns)):\n",
    "        for j in range(i):\n",
    "            if corr_matrix.iloc[i, j] >= threshold:\n",
    "                colname = corr_matrix.columns[i] # getting the name of column\n",
    "                col_corr.add(colname)\n",
    "                if colname in dataset.columns:\n",
    "                    del dataset[colname] # deleting the column from the dataset\n",
    "\n",
    "    return(dataset)"
   ]
  },
  {
   "cell_type": "code",
   "execution_count": 1148,
   "metadata": {},
   "outputs": [
    {
     "data": {
      "text/plain": [
       "(612, 51)"
      ]
     },
     "execution_count": 1148,
     "metadata": {},
     "output_type": "execute_result"
    }
   ],
   "source": [
    "new_dat=correlation(merge,0.75)\n",
    "#new_dat.append(correlation(final_df1[feat1],0.70))\n",
    "new_dat.shape"
   ]
  },
  {
   "cell_type": "code",
   "execution_count": 605,
   "metadata": {},
   "outputs": [],
   "source": [
    "cont_l=list(new_dat.describe().columns)\n",
    "cat_l=list(new_dat.describe(include=['O']).columns)"
   ]
  },
  {
   "cell_type": "code",
   "execution_count": 606,
   "metadata": {
    "collapsed": true
   },
   "outputs": [],
   "source": [
    " def calculate_vif(thresh,X,train,y):\n",
    "        datecol=[x for x in train.columns if train[x].dtypes=='datetime64[ns]']\n",
    "        cat=[x for x in train.columns if train[x].dtypes == 'object' and x not in datecol]\n",
    "        X1=[x for x in train.columns if train[x].dtypes != 'object' and x not in datecol and x not in y]    \n",
    "        X=[x for x in X1 if x not in cat]\n",
    "        X=train[X]\n",
    "        dropped=True\n",
    "        while dropped:\n",
    "            variables = X.columns\n",
    "            dropped = False\n",
    "            vif = [variance_inflation_factor(X[variables].values, X.columns.get_loc(var)) for var in X.columns]\n",
    "            max_vif = max(vif)\n",
    "            if max_vif > thresh:\n",
    "                maxloc = vif.index(max_vif)\n",
    "                print(f'Dropping {X.columns[maxloc]} with vif=')\n",
    "                print(max_vif)\n",
    "                X = X.drop([X.columns.tolist()[maxloc]], axis=1)\n",
    "                dropped=True\n",
    "        print(X)\n",
    "        return X"
   ]
  },
  {
   "cell_type": "code",
   "execution_count": 607,
   "metadata": {},
   "outputs": [
    {
     "name": "stdout",
     "output_type": "stream",
     "text": [
      "Dropping PDO with vif=\n",
      "4926353.47059\n",
      "Dropping DftYr with vif=\n",
      "5561.91585801\n",
      "Dropping Ht with vif=\n",
      "2181.50565466\n",
      "Dropping SV% with vif=\n",
      "452.959616758\n",
      "Dropping Pace with vif=\n",
      "126.048198481\n",
      "Dropping Min with vif=\n",
      "84.0456473112\n",
      "Dropping Wt with vif=\n",
      "42.0036173354\n",
      "Dropping Pct% with vif=\n",
      "25.1553706302\n",
      "Dropping SCF with vif=\n",
      "20.8312533735\n",
      "Dropping iHF.1 with vif=\n",
      "14.8528501483\n",
      "Dropping sDist.1 with vif=\n",
      "13.9374061809\n",
      "     Game  BLK%  FOW.Up  S.Bkhd  iPenDf  Match   A/60  G.Snap   IPP%  CBar   \\\n",
      "0       0   0.0       0       0       0      0  16.74       0    0.0      0   \n",
      "1       0   8.0       0       2      -4      0   2.79       0   30.4      0   \n",
      "2       0   2.4      13      19      -2      0   1.95       3   63.4      0   \n",
      "3       0   7.3       0       0       1      0   3.45       0   37.5      0   \n",
      "4       1   4.4       3       7     -11      0   2.32       0   61.3      0   \n",
      "5       0   6.5       0       2      -1      0   1.91       0   23.9      0   \n",
      "6       0   4.3       0       0       0      0   0.00       0  100.0      0   \n",
      "7       0   3.2      36       3       6      0   2.63       1   75.0      0   \n",
      "8       0   4.4      10       8       3      0   2.42       0   81.8      0   \n",
      "9       0   2.2      16       0      -1      0   2.63       0  100.0      0   \n",
      "10      0   3.9      12       1       1      0   2.64       0   10.0      1   \n",
      "11      0   4.0      74       5      -5      0   2.48       0   56.3      0   \n",
      "12      0   4.7      11       1     -14      0   3.38       2   76.2      0   \n",
      "13      0   4.4     118      13     -12      0   2.62       1   65.0      1   \n",
      "14      0   5.8      15      18       2      0   2.82       1   68.6      0   \n",
      "15      0   5.0       0       0      -5      0   2.41       0   42.9      0   \n",
      "16      0   3.9       1      15      11      0   2.46       0   72.2      1   \n",
      "17      0   0.0       0       1      -2      0   4.09       0    0.0      0   \n",
      "18      1   8.6       0       2     -18      0   2.46       0   25.0      0   \n",
      "19      0   9.9       0       0      -3      0   1.98       1   25.0      0   \n",
      "20      0   6.7       0       3       1      0   3.41       2   39.7      0   \n",
      "21      0   3.7      20      16       0      0   2.16       0   65.5      2   \n",
      "22      0   1.5      19       8     -10      0   2.04       6   82.4      0   \n",
      "23      0   7.2       0       2     -17      0   2.78       0   35.0      0   \n",
      "24      0   7.0       0       2     -23      0   2.89       1   22.2      0   \n",
      "25      0   3.2       1      26      19      0   2.10       8   71.4      0   \n",
      "26      0   3.2       5       2       2      0   5.10       0   50.0      0   \n",
      "27      0   2.5      12      17      -1      0   2.20       1   64.8      0   \n",
      "28      0   2.1       5       2       0      0   4.59       0    0.0      0   \n",
      "29      0   5.6       6      10      -2      0   2.24       3   66.7      0   \n",
      "..    ...   ...     ...     ...     ...    ...    ...     ...    ...    ...   \n",
      "582     0   3.1       0       4       0      0   2.75       8   70.3      1   \n",
      "583     0   3.0      51      11       8      0   2.29       4   75.0      0   \n",
      "584     0   3.6     261      22      13      0   3.20       5   68.4      0   \n",
      "585     0   7.2       0       0      -5      0   3.02       0   41.9      0   \n",
      "586     0   9.6       0       0       0      0   2.61       0   40.0      0   \n",
      "587     0   8.5       0       5      -5      0   2.68       1   45.7      1   \n",
      "588     0   6.3       0       0       0      0   0.00       0    0.0      0   \n",
      "589     0   1.9       0      11       0      0   2.79       2   60.7      0   \n",
      "590     0   6.1       0       1      -1      0   2.21       0  100.0      0   \n",
      "591     0   0.0       1       0      -3      0   6.16       0    0.0      0   \n",
      "592     0   3.4       0      15       7      0   2.23       4   74.2      0   \n",
      "593     0   5.3       1      16      10      0   2.06       2   63.5      0   \n",
      "594     0   2.7     110      17     -14      0   1.99       5   77.4      0   \n",
      "595     0   4.2       3       8       4      0   2.21       2   63.2      0   \n",
      "596     0   2.9      35      13       1      0   2.44       1   61.5      0   \n",
      "597     0   1.3       1       0       1      0   2.27       1   40.0      0   \n",
      "598     0   1.8      11      18      -1      0   1.95       0   60.4      0   \n",
      "599     0  12.3       0       0      -5      0   3.31       0   25.0      0   \n",
      "600     0   7.1       0       7      -1      0   2.18       1   29.9      1   \n",
      "601     0  12.9       0       0       0      0   2.95       0    0.0      0   \n",
      "602     0   7.0       0       6       1      0   3.18       0   41.9      0   \n",
      "603     0   4.0       6      12       6      0   2.67       2   62.2      0   \n",
      "604     0   2.7      41      15      -3      0   1.88       3   56.1      1   \n",
      "605     0   2.4      22       2       4      0   2.27       0   40.0      0   \n",
      "606     0   2.2       1       0      -4      0   2.73       0    0.0      0   \n",
      "607     0   2.9     133       5      -3      0   2.01       3   65.4      2   \n",
      "608     0   5.2       0      10     -14      0   2.14       1   34.5      1   \n",
      "609     1   9.5       0       5      -1      0   2.52       1   43.8      1   \n",
      "610     0   3.6     187      15       0      0   2.42       1   58.3      0   \n",
      "611     0   8.0       0       5      -3      0   2.24       0   46.1      0   \n",
      "\n",
      "    ...   +/-  iPenD  ENG  G.Wrap  G.Slap    FO%  PSG  E+/-  Diff  OTG  \n",
      "0   ...    -2      0    0       0       0    0.0    0   0.0    -2    0  \n",
      "1   ...   -11      6    0       0       1  100.0    0 -10.4   -29    0  \n",
      "2   ...    -7     10    0       0       0   54.5    0  -1.4    31    1  \n",
      "3   ...   -14      7    0       0       0    0.0    0  -5.3   -19    0  \n",
      "4   ...     9     33    1       0       0   30.0    0   4.1   -10    0  \n",
      "5   ...    12     11    0       0       2    0.0    0   0.7    24    0  \n",
      "6   ...     1      0    0       0       0    0.0    0   0.3     1    0  \n",
      "7   ...    -7      8    0       0       0   41.6    0  -4.1    -9    0  \n",
      "8   ...   -19      9    0       0       0   40.8    0  -7.9   -18    0  \n",
      "9   ...    -3      0    0       0       0   44.4    0  -2.6    -3    0  \n",
      "10  ...    -6      9    0       0       0   56.5    0   0.8    -9    0  \n",
      "11  ...   -12      8    0       0       2   52.7    0  -5.7   -15    0  \n",
      "12  ...   -16      7    0       0       0   42.9    0  -9.0   -18    0  \n",
      "13  ...   -16     21    1       0       2   46.1    0  -0.6   -13    0  \n",
      "14  ...   -16     12    0       0       0   53.4    0  -6.5   -20    0  \n",
      "15  ...    -3      1    0       0       0    0.0    0  -0.4    -5    0  \n",
      "16  ...     0     20    0       0       1  100.0    0   7.8     1    0  \n",
      "17  ...    -3      0    0       0       0    0.0    0  -1.4    -3    0  \n",
      "18  ...    10      6    0       0       4    0.0    0  -2.3   -11    0  \n",
      "19  ...     2      0    0       0       0    0.0    0   0.4     0    0  \n",
      "20  ...   -20     10    0       0       0    0.0    0   2.6   -27    1  \n",
      "21  ...    14      9    2       0       0   47.9    0   8.7    31    1  \n",
      "22  ...    -3      6    1       0       1   40.2    0   7.2    30    0  \n",
      "23  ...   -10      3    0       0       0    0.0    0  -4.8   -25    0  \n",
      "24  ...     9      5    0       0       3    0.0    0   5.3   -10    0  \n",
      "25  ...    11     36    3       0       6   66.7    0  14.8    51    2  \n",
      "26  ...    -5      2    0       0       0   40.0    0  -1.5    -6    0  \n",
      "27  ...    -2     26    2       1       0   48.5    0   5.1    19    1  \n",
      "28  ...    -4      1    0       0       0   36.4    0  -1.7    -5    0  \n",
      "29  ...    -6      8    0       0       0   49.1    0   0.7    -6    0  \n",
      "..  ...   ...    ...  ...     ...     ...    ...  ...   ...   ...  ...  \n",
      "582 ...     7     13    3       0       8    0.0    0  -2.9    32    1  \n",
      "583 ...   -17     16    0       0       0   40.3    0  -4.1    -6    0  \n",
      "584 ...   -13     33    3       0       5   50.2    0  -1.7   -12    1  \n",
      "585 ...    -6      7    0       0       2    0.0    0   1.4   -15    0  \n",
      "586 ...   -11      4    0       0       0    0.0    0  -3.3   -10    0  \n",
      "587 ...     3      7    1       0       3    0.0    0   3.9    15    0  \n",
      "588 ...     1      0    0       0       0    0.0    0   0.1     1    0  \n",
      "589 ...   -23     10    0       0       1   33.3    0 -10.9   -16    0  \n",
      "590 ...    -1      0    0       0       0  100.0    0  -1.1    -1    0  \n",
      "591 ...    -2      0    0       0       0   46.2    0  -1.8    -2    0  \n",
      "592 ...    10     17    1       1       3   14.3    0   8.2    12    0  \n",
      "593 ...    12     21    2       2       3   40.0    0   6.3    40    0  \n",
      "594 ...    18     22    0       1       6   43.1    0   6.2    55    1  \n",
      "595 ...   -12     11    0       0       0   31.0    0  -2.5   -19    0  \n",
      "596 ...     1      6    0       0       1   41.4    0  -9.3     4    0  \n",
      "597 ...    -2      3    0       0       0  100.0    0  -1.2    -2    0  \n",
      "598 ...     7     14    0       0       1   45.9    0   1.7    13    0  \n",
      "599 ...     4      6    0       0       0    0.0    0  -0.4   -12    0  \n",
      "600 ...    23     14    0       0       0  100.0    0   7.0    12    0  \n",
      "601 ...    -1      1    0       0       0    0.0    0  -0.2    -2    0  \n",
      "602 ...    -7      7    0       0       1    0.0    0   0.3   -14    0  \n",
      "603 ...     5     11    0       0       3   53.3    0   0.7    23    1  \n",
      "604 ...     4     11    2       2       0   53.5    0   5.9    38    0  \n",
      "605 ...     9      5    0       0       0   46.7    0  -2.6     4    0  \n",
      "606 ...    -2      2    0       0       0  100.0    0  -1.3    -2    0  \n",
      "607 ...    -2      7    0       0       0   50.2    0   4.2    -4    0  \n",
      "608 ...    34      4    0       0       3    0.0    0  19.7    38    0  \n",
      "609 ...     4     11    0       0       1    0.0    0   0.6    -2    1  \n",
      "610 ...    10     12    0       0       1   51.2    0   5.0    -5    0  \n",
      "611 ...     7     13    0       0       2    0.0    0   1.7    12    0  \n",
      "\n",
      "[612 rows x 34 columns]\n"
     ]
    }
   ],
   "source": [
    "vif_df=calculate_vif(thresh=10,train=new_dat,X=cont_l,y=train['Salary'])"
   ]
  },
  {
   "cell_type": "code",
   "execution_count": 609,
   "metadata": {},
   "outputs": [
    {
     "data": {
      "text/plain": [
       "Index(['Pr/St', 'Cntry', 'Nat', 'Hand', 'Position', 'Team', 'Game', 'BLK%',\n",
       "       'FOW.Up', 'S.Bkhd', 'iPenDf', 'Match', 'A/60', 'G.Snap', 'IPP%',\n",
       "       'CBar ', 'S.Wrap', 'PSA', 'Post', 'G.Dflct', 'G.Bkhd', 'S.Dflct',\n",
       "       'iHDf', 'DAP', 'SH%', 'Ovrl', 'Misc', 'G.Tip', 'Salary', 'S.Slap',\n",
       "       '+/-', 'iPenD', 'ENG', 'G.Wrap', 'G.Slap', 'FO%', 'PSG', 'E+/-', 'Diff',\n",
       "       'OTG'],\n",
       "      dtype='object')"
      ]
     },
     "execution_count": 609,
     "metadata": {},
     "output_type": "execute_result"
    }
   ],
   "source": [
    "final_df1=pd.concat([new_dat[cat_l],vif_df],axis=1)\n",
    "feat1=list(final_df1.columns)\n",
    "final_df1.columns"
   ]
  },
  {
   "cell_type": "markdown",
   "metadata": {},
   "source": [
    "# Encoding Categorical Variables "
   ]
  },
  {
   "cell_type": "code",
   "execution_count": 1149,
   "metadata": {},
   "outputs": [],
   "source": [
    "from sklearn import preprocessing\n",
    "le = preprocessing.LabelEncoder()\n",
    "for column_name in final_df1.columns:\n",
    "        if final_df1[column_name].dtype == object:\n",
    "            final_df1[column_name] = le.fit_transform(final_df1[column_name])\n",
    "        else:\n",
    "            pass\n",
    "features=list(final_df1.columns)\n"
   ]
  },
  {
   "cell_type": "code",
   "execution_count": 1150,
   "metadata": {},
   "outputs": [],
   "source": [
    "Mod=final_df1[features]"
   ]
  },
  {
   "cell_type": "markdown",
   "metadata": {},
   "source": [
    "# Addition and Removal of features accodring to the context"
   ]
  },
  {
   "cell_type": "code",
   "execution_count": null,
   "metadata": {
    "collapsed": true
   },
   "outputs": [],
   "source": [
    " concat_df=pd.concat([Mod,df1[['G','DftYr','FOL','TOI','xGF']]],axis=1)\n",
    "cols=list(concat_df.columns)\n",
    "cols.remove('Salary')\n"
   ]
  },
  {
   "cell_type": "code",
   "execution_count": 1152,
   "metadata": {},
   "outputs": [
    {
     "data": {
      "text/plain": [
       "['Cntry',\n",
       " 'Hand',\n",
       " 'Position',\n",
       " 'BLK%',\n",
       " 'FOW.Up',\n",
       " 'S.Bkhd',\n",
       " 'iPenDf',\n",
       " 'Match',\n",
       " 'A/60',\n",
       " 'G.Snap',\n",
       " 'S.Wrap',\n",
       " 'PSA',\n",
       " 'Post',\n",
       " 'G.Dflct',\n",
       " 'G.Bkhd',\n",
       " 'S.Dflct',\n",
       " 'iHDf',\n",
       " 'DAP',\n",
       " 'Ovrl',\n",
       " 'Misc',\n",
       " 'G.Tip',\n",
       " 'S.Slap',\n",
       " '+/-',\n",
       " 'iPenD',\n",
       " 'ENG',\n",
       " 'G.Wrap',\n",
       " 'G.Slap',\n",
       " 'PSG',\n",
       " 'E+/-',\n",
       " 'OTG',\n",
       " 'G',\n",
       " 'DftYr',\n",
       " 'FOL',\n",
       " 'TOI',\n",
       " 'xGF']"
      ]
     },
     "execution_count": 1152,
     "metadata": {},
     "output_type": "execute_result"
    }
   ],
   "source": [
    "#cols.remove('Cntry')\n",
    "cols.remove('Game')\n",
    "#cols.remove('PSA')\n",
    "cols.remove('Pr/St')\n",
    "#cols.remove('OTG')\n",
    "#cols.remove('FOW.Up')\n",
    "cols.remove('Nat')\n",
    "cols.remove('IPP%')\n",
    "cols.remove('Team')\n",
    "cols.remove('CBar ')\n",
    "#cols.remove('A/60')\n",
    "cols.remove('SH%')\n",
    "cols.remove('Diff')\n",
    "#cols.remove('BLK%')\n",
    "cols.remove('FO%')\n",
    "#cols.remove('Position')\n",
    "cols"
   ]
  },
  {
   "cell_type": "markdown",
   "metadata": {},
   "source": [
    "# Regression Stats\n"
   ]
  },
  {
   "cell_type": "code",
   "execution_count": 1165,
   "metadata": {
    "collapsed": true
   },
   "outputs": [],
   "source": [
    "import statsmodels.api as sm"
   ]
  },
  {
   "cell_type": "code",
   "execution_count": 1174,
   "metadata": {},
   "outputs": [],
   "source": [
    "model1=sm.OLS(concat_df['Salary'],concat_df[cols])#without PCA\n",
    "\n"
   ]
  },
  {
   "cell_type": "code",
   "execution_count": 1178,
   "metadata": {},
   "outputs": [],
   "source": [
    "result1=model1.fit()\n"
   ]
  },
  {
   "cell_type": "code",
   "execution_count": 1204,
   "metadata": {},
   "outputs": [
    {
     "data": {
      "text/plain": [
       "array([[ -6.74747765e-02,  -5.71526358e-02,  -1.54920786e-02,\n",
       "         -6.25223575e-02,   2.11887169e-01,   1.29871266e-02,\n",
       "          2.80916121e-02,  -1.65019726e-01,  -2.03946599e-02,\n",
       "          4.82456733e-02,  -5.59109072e-02,   1.31447635e-01,\n",
       "          5.30510915e-01,  -5.64102292e-02,  -1.15375018e-01,\n",
       "         -1.10366702e-01,  -7.26043400e-03,  -1.50328219e-01,\n",
       "          1.14516238e-01,  -2.16901990e-03,  -1.53315534e-02,\n",
       "          1.63771593e-03,  -6.16297461e-03,   3.92101231e-02,\n",
       "         -6.94055479e-03,   4.54091628e-02],\n",
       "       [ -4.15687203e-03,   6.44527099e-02,   1.12354433e-02,\n",
       "          1.18337798e-02,   5.67309047e-02,  -1.86574235e-02,\n",
       "         -1.84540970e-02,   3.10124709e-02,   3.07635389e-02,\n",
       "          3.45594786e-02,   7.20112728e-03,  -6.24217818e-02,\n",
       "         -1.03552347e-03,  -5.49994241e-03,  -1.00109213e-02,\n",
       "          4.97454616e-02,  -4.48823339e-02,  -9.11076687e-04,\n",
       "          4.24274648e-02,  -2.43504715e-02,  -1.60113157e-02,\n",
       "          1.05786776e-02,  -1.53116002e-02,   3.47676145e-02,\n",
       "         -6.37242148e-03,   1.03415649e-02],\n",
       "       [  1.11763979e-01,  -9.52568568e-02,   8.37860049e-03,\n",
       "          2.53377293e-02,  -5.26503420e-02,  -7.53071592e-02,\n",
       "         -6.94599132e-02,  -5.19727126e-02,  -1.00034872e-01,\n",
       "          2.58417115e-01,  -1.71786408e-01,  -2.29269396e-02,\n",
       "         -8.78581324e-02,   1.42944091e-01,  -1.42747862e-01,\n",
       "         -6.89855369e-04,  -1.93305079e-01,   1.48267086e-01,\n",
       "         -5.58118126e-02,   7.41282879e-02,  -3.75744544e-01,\n",
       "         -9.56716391e-03,   4.36365812e-03,  -4.19489358e-02,\n",
       "         -5.48011539e-02,   1.41636733e-02],\n",
       "       [ -5.35798426e-02,   1.78604808e-02,   2.12079009e-02,\n",
       "          2.00115133e-02,   6.84042681e-02,  -2.60496902e-02,\n",
       "         -4.54674480e-02,   4.58298349e-02,   4.44490053e-03,\n",
       "          2.68085760e-02,   3.42500044e-02,  -8.71711278e-02,\n",
       "          5.56729265e-02,  -2.16763473e-02,  -7.57001104e-02,\n",
       "          4.71795076e-02,  -1.36963922e-02,   3.62765593e-02,\n",
       "          6.23898302e-04,  -2.50251411e-03,   6.54930973e-03,\n",
       "          3.84751036e-03,   5.30246478e-02,  -9.49380732e-03,\n",
       "          2.36122251e-04,  -1.52128580e-02],\n",
       "       [  5.06281074e-03,   2.56836365e-03,   5.00280142e-02,\n",
       "          6.47085447e-03,  -3.28408840e-02,  -2.01290731e-02,\n",
       "          2.68783614e-02,  -3.31513300e-03,  -3.76665417e-02,\n",
       "         -1.74976819e-02,   1.99682002e-03,  -2.71303259e-02,\n",
       "          2.68505877e-02,  -6.78871188e-02,   1.21798480e-02,\n",
       "          1.65243531e-02,   8.11705004e-03,  -1.72424344e-03,\n",
       "         -1.88813262e-02,  -3.12009422e-02,  -7.78115106e-03,\n",
       "         -3.69946982e-02,  -3.41649496e-02,  -2.90089665e-02,\n",
       "          5.26627220e-03,   4.99669433e-02]])"
      ]
     },
     "execution_count": 1204,
     "metadata": {},
     "output_type": "execute_result"
    }
   ],
   "source": [
    "##Getting the top Influential Plots\n",
    "from statsmodels.stats.outliers_influence import OLSInfluence\n",
    "test_class = OLSInfluence(result)\n",
    "test_class.dfbetas[:5,:]"
   ]
  },
  {
   "cell_type": "code",
   "execution_count": 1206,
   "metadata": {},
   "outputs": [
    {
     "data": {
      "image/png": "[encoded data removed]",
      "text/plain": [
       "<matplotlib.figure.Figure at 0x99ddcc0>"
      ]
     },
     "execution_count": 1206,
     "metadata": {},
     "output_type": "execute_result"
    }
   ],
   "source": [
    "from statsmodels.graphics.regressionplots import plot_leverage_resid2\n",
    "fig, ax = plt.subplots(figsize=(8,6))\n",
    "fig = plot_leverage_resid2(result, ax = ax)\n",
    "fig"
   ]
  },
  {
   "cell_type": "code",
   "execution_count": 1179,
   "metadata": {},
   "outputs": [
    {
     "name": "stdout",
     "output_type": "stream",
     "text": [
      "                            OLS Regression Results                            \n",
      "==============================================================================\n",
      "Dep. Variable:                 Salary   R-squared:                       0.765\n",
      "Model:                            OLS   Adj. R-squared:                  0.751\n",
      "Method:                 Least Squares   F-statistic:                     53.67\n",
      "Date:                Sun, 23 Dec 2018   Prob (F-statistic):          3.27e-157\n",
      "Time:                        15:42:37   Log-Likelihood:                -9588.6\n",
      "No. Observations:                 612   AIC:                         1.925e+04\n",
      "Df Residuals:                     577   BIC:                         1.940e+04\n",
      "Df Model:                          35                                         \n",
      "Covariance Type:            nonrobust                                         \n",
      "==============================================================================\n",
      "                 coef    std err          t      P>|t|      [0.025      0.975]\n",
      "------------------------------------------------------------------------------\n",
      "Cntry       1262.4902   9159.872      0.138      0.890   -1.67e+04    1.93e+04\n",
      "Hand       -2.589e+05   1.41e+05     -1.839      0.066   -5.35e+05    1.76e+04\n",
      "Position    5.534e+04   1.79e+04      3.091      0.002    2.02e+04    9.05e+04\n",
      "BLK%        7305.4529   2.61e+04      0.280      0.779   -4.39e+04    5.85e+04\n",
      "FOW.Up      4748.1991   1616.325      2.938      0.003    1573.601    7922.798\n",
      "S.Bkhd      2.173e+04   1.82e+04      1.194      0.233    -1.4e+04    5.75e+04\n",
      "iPenDf     -7549.5550   1.57e+04     -0.482      0.630   -3.83e+04    2.32e+04\n",
      "Match      -1.282e+06   9.79e+05     -1.310      0.191    -3.2e+06     6.4e+05\n",
      "A/60        1.514e+04   5.36e+04      0.282      0.778   -9.02e+04     1.2e+05\n",
      "G.Snap     -5.212e+04   6.02e+04     -0.866      0.387    -1.7e+05    6.61e+04\n",
      "S.Wrap     -1.079e+05   5.43e+04     -1.989      0.047   -2.15e+05   -1330.471\n",
      "PSA         3.946e+05   4.01e+05      0.985      0.325   -3.92e+05    1.18e+06\n",
      "Post       -3.348e+04   5.31e+04     -0.631      0.528   -1.38e+05    7.08e+04\n",
      "G.Dflct      1.12e+05   1.69e+05      0.665      0.506   -2.19e+05    4.43e+05\n",
      "G.Bkhd     -6.631e+04   8.14e+04     -0.815      0.416   -2.26e+05    9.35e+04\n",
      "S.Dflct     5.917e+04   4.47e+04      1.323      0.186   -2.87e+04    1.47e+05\n",
      "iHDf        4246.5877   1940.013      2.189      0.029     436.240    8056.935\n",
      "DAP        -1.685e+04   9713.129     -1.735      0.083   -3.59e+04    2227.797\n",
      "Ovrl       -1662.7145   1063.716     -1.563      0.119   -3751.942     426.513\n",
      "Misc        3.218e+05    1.7e+05      1.897      0.058   -1.13e+04    6.55e+05\n",
      "G.Tip      -4.709e+04   7.32e+04     -0.644      0.520   -1.91e+05    9.66e+04\n",
      "S.Slap      1.944e+04   7446.467      2.610      0.009    4809.744    3.41e+04\n",
      "+/-         -929.8791   8491.887     -0.110      0.913   -1.76e+04    1.57e+04\n",
      "iPenD      -4.503e+04   1.64e+04     -2.752      0.006   -7.72e+04   -1.29e+04\n",
      "ENG         2.168e+05   1.21e+05      1.787      0.074   -2.14e+04    4.55e+05\n",
      "G.Wrap      5.511e+05   2.54e+05      2.173      0.030     5.3e+04    1.05e+06\n",
      "G.Slap     -2.996e+04   7.19e+04     -0.417      0.677   -1.71e+05    1.11e+05\n",
      "PSG        -2.054e+05   6.56e+05     -0.313      0.754   -1.49e+06    1.08e+06\n",
      "E+/-        2.522e+04   1.72e+04      1.470      0.142   -8479.111    5.89e+04\n",
      "OTG         9.569e+04   1.41e+05      0.677      0.499   -1.82e+05    3.73e+05\n",
      "G           3.434e+04   2.94e+04      1.170      0.243   -2.33e+04     9.2e+04\n",
      "DftYr        244.9815    141.229      1.735      0.083     -32.404     522.367\n",
      "FOL         5473.2925   1391.621      3.933      0.000    2740.033    8206.552\n",
      "TOI          -49.3932     13.876     -3.560      0.000     -76.648     -22.139\n",
      "xGF          3.98e+04    1.1e+04      3.628      0.000    1.83e+04    6.13e+04\n",
      "==============================================================================\n",
      "Omnibus:                      158.206   Durbin-Watson:                   1.888\n",
      "Prob(Omnibus):                  0.000   Jarque-Bera (JB):              721.493\n",
      "Skew:                           1.089   Prob(JB):                    2.14e-157\n",
      "Kurtosis:                       7.852   Cond. No.                     9.44e+05\n",
      "==============================================================================\n",
      "\n",
      "Warnings:\n",
      "[1] Standard Errors assume that the covariance matrix of the errors is correctly specified.\n",
      "[2] The condition number is large, 9.44e+05. This might indicate that there are\n",
      "strong multicollinearity or other numerical problems.\n"
     ]
    }
   ],
   "source": [
    "print(result1.summary())"
   ]
  },
  {
   "cell_type": "code",
   "execution_count": 1203,
   "metadata": {},
   "outputs": [
    {
     "name": "stdout",
     "output_type": "stream",
     "text": [
      "['Lagrange multiplier statistic', 'p-value', 'f-value', 'f p-value'] (21.661721204148925, 0.65519455167588558, 0.82702051984913305, 0.71321490282267452)\n"
     ]
    }
   ],
   "source": [
    "name = ['Lagrange multiplier statistic', 'p-value',\n",
    "        'f-value', 'f p-value']\n",
    "test = sm.stats.diagnostic.het_breuschpagan( result.resid, result.model.exog)\n",
    "print(name, test)"
   ]
  },
  {
   "cell_type": "markdown",
   "metadata": {},
   "source": [
    "# Regression Model\n"
   ]
  },
  {
   "cell_type": "code",
   "execution_count": 1181,
   "metadata": {},
   "outputs": [
    {
     "name": "stdout",
     "output_type": "stream",
     "text": [
      "1440947.0503841855 0.630436206892 0.543039363928\n"
     ]
    },
    {
     "data": {
      "text/plain": [
       "(428, 35)"
      ]
     },
     "execution_count": 1181,
     "metadata": {},
     "output_type": "execute_result"
    }
   ],
   "source": [
    "trainX, testX, trainY, testY =  train_test_split(concat_df[cols], concat_df['Salary'], test_size = .3)\n",
    "lr=LinearRegression()\n",
    "lr.fit(concat_df[cols],concat_df['Salary'])\n",
    "preds=(lr.predict(testX.values))\n",
    "r_squared=r2_score(y_pred=(preds),y_true=(testY))\n",
    "adjusted_r_squared = 1 - (1-r_squared)*(len(testY)-1)/(len(testY)-testX.shape[1]-1)\n",
    "print(sqrt(mean_squared_error(testY,preds)),r2_score(testY,preds),adjusted_r_squared)   \n",
    "trainX.shape"
   ]
  },
  {
   "cell_type": "code",
   "execution_count": 1182,
   "metadata": {},
   "outputs": [
    {
     "data": {
      "image/png": "[encoded data removed]",
      "text/plain": [
       "<matplotlib.figure.Figure at 0x99ecfd0>"
      ]
     },
     "metadata": {},
     "output_type": "display_data"
    }
   ],
   "source": [
    "plt.scatter(y=(testY),x=(preds))\n",
    "plt.show()"
   ]
  },
  {
   "cell_type": "code",
   "execution_count": 1158,
   "metadata": {},
   "outputs": [
    {
     "name": "stdout",
     "output_type": "stream",
     "text": [
      "1602158.521279669\n"
     ]
    }
   ],
   "source": [
    "from sklearn import metrics \n",
    "l=metrics.mean_squared_error(y_pred=preds,y_true=testY)\n",
    "print(sqrt(l))"
   ]
  },
  {
   "cell_type": "markdown",
   "metadata": {},
   "source": [
    "# Predicting for the Test set "
   ]
  },
  {
   "cell_type": "code",
   "execution_count": 1159,
   "metadata": {},
   "outputs": [],
   "source": [
    "Test_df=missing(Test_df)\n",
    "train=missing(train)"
   ]
  },
  {
   "cell_type": "code",
   "execution_count": 1160,
   "metadata": {},
   "outputs": [],
   "source": [
    "from sklearn import preprocessing\n",
    "le = preprocessing.LabelEncoder()\n",
    "for column_name in Test_df.columns:\n",
    "        if Test_df[column_name].dtype == object:\n",
    "            Test_df[column_name] = le.fit_transform(Test_df[column_name])\n",
    "        else:\n",
    "            pass\n",
    "for column_name in train.columns:\n",
    "        if train[column_name].dtype == object:\n",
    "            train[column_name] = le.fit_transform(train[column_name])\n",
    "        else:\n",
    "            pass\n"
   ]
  },
  {
   "cell_type": "code",
   "execution_count": 1184,
   "metadata": {},
   "outputs": [],
   "source": [
    "#trainX, testX, trainY, testY =  train_test_split(concat_df[cols], concat_df['Salary'], test_size = .3)\n",
    "lr=LinearRegression()\n",
    "lr.fit(train[cols],train['Salary'])\n",
    "preds=(lr.predict(Test_df[cols].values))\n",
    "pred=pd.DataFrame(pre"
   ]
  },
  {
   "cell_type": "code",
   "execution_count": 1186,
   "metadata": {
    "collapsed": true
   },
   "outputs": [],
   "source": [
    "Test=pd.read_csv(\"C:/Users/shreyas.raghavan/Desktop/Test_salary.csv\",encoding='latin')"
   ]
  },
  {
   "cell_type": "code",
   "execution_count": 1187,
   "metadata": {},
   "outputs": [
    {
     "name": "stdout",
     "output_type": "stream",
     "text": [
      "1680819.454731956 0.521800700522 0.447743286886\n"
     ]
    },
    {
     "data": {
      "text/plain": [
       "(428, 35)"
      ]
     },
     "execution_count": 1187,
     "metadata": {},
     "output_type": "execute_result"
    }
   ],
   "source": [
    "r_squared=r2_score(y_pred=(pred),y_true=(Test['Salary']))\n",
    "adjusted_r_squared = 1 - (1-r_squared)*(len(Test['Salary'])-1)/(len(Test['Salary'])-testX.shape[1]-1)\n",
    "print(sqrt(mean_squared_error(Test['Salary'],pred)),r2_score(Test['Salary'],pred),adjusted_r_squared)   \n",
    "trainX.shape"
   ]
  },
  {
   "cell_type": "code",
   "execution_count": null,
   "metadata": {
    "collapsed": true
   },
   "outputs": [],
   "source": []
  }
 ],
 "metadata": {
  "kernelspec": {
   "display_name": "Python 3",
   "language": "python",
   "name": "python3"
  },
  "language_info": {
   "codemirror_mode": {
    "name": "ipython",
    "version": 3
   },
   "file_extension": ".py",
   "mimetype": "text/x-python",
   "name": "python",
   "nbconvert_exporter": "python",
   "pygments_lexer": "ipython3",
   "version": "3.6.3"
  }
 },
 "nbformat": 4,
 "nbformat_minor": 2
}
